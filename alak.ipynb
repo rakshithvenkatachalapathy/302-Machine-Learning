{
 "cells": [
  {
   "cell_type": "code",
   "execution_count": 4,
   "metadata": {},
   "outputs": [],
   "source": [
    "from random import choice\n",
    "import numpy as np\n",
    "import matplotlib.pyplot as plt\n",
    "from copy import copy\n",
    "import time\n",
    "from IPython import display\n",
    "import re"
   ]
  },
  {
   "cell_type": "code",
   "execution_count": 1,
   "metadata": {},
   "outputs": [
    {
     "name": "stdout",
     "output_type": "stream",
     "text": [
      "Collecting package metadata (current_repodata.json): done\n",
      "Solving environment: done\n",
      "\n",
      "## Package Plan ##\n",
      "\n",
      "  environment location: /opt/anaconda3\n",
      "\n",
      "  added / updated specs:\n",
      "    - scikit-learn\n",
      "\n",
      "\n",
      "The following packages will be UPDATED:\n",
      "\n",
      "  ca-certificates    conda-forge::ca-certificates-2020.12.~ --> pkgs/main::ca-certificates-2021.1.19-hecd8cb5_0\n",
      "\n",
      "The following packages will be SUPERSEDED by a higher-priority channel:\n",
      "\n",
      "  certifi            conda-forge::certifi-2020.12.5-py37hf~ --> pkgs/main::certifi-2020.12.5-py37hecd8cb5_0\n",
      "  conda              conda-forge::conda-4.9.2-py37hf985489~ --> pkgs/main::conda-4.9.2-py37hecd8cb5_0\n",
      "  openssl            conda-forge::openssl-1.1.1i-h35c211d_0 --> pkgs/main::openssl-1.1.1i-h9ed2024_0\n",
      "\n",
      "\n",
      "Preparing transaction: done\n",
      "Verifying transaction: done\n",
      "Executing transaction: done\n",
      "\n",
      "Note: you may need to restart the kernel to use updated packages.\n"
     ]
    }
   ],
   "source": [
    "conda install scikit-learn"
   ]
  },
  {
   "cell_type": "code",
   "execution_count": 1,
   "metadata": {},
   "outputs": [
    {
     "name": "stdout",
     "output_type": "stream",
     "text": [
      "The nltk version is 3.5.\n",
      "The scikit-learn version is 0.23.2.\n"
     ]
    }
   ],
   "source": [
    "import nltk\n",
    "import sklearn\n",
    "\n",
    "print('The nltk version is {}.'.format(nltk.__version__))\n",
    "print('The scikit-learn version is {}.'.format(sklearn.__version__))"
   ]
  },
  {
   "cell_type": "code",
   "execution_count": 2,
   "metadata": {},
   "outputs": [
    {
     "name": "stdout",
     "output_type": "stream",
     "text": [
      "matplotlib: 3.3.2\n"
     ]
    }
   ],
   "source": [
    "import matplotlib\n",
    "print('matplotlib: {}'.format(matplotlib.__version__))"
   ]
  },
  {
   "cell_type": "code",
   "execution_count": 3,
   "metadata": {},
   "outputs": [
    {
     "name": "stdout",
     "output_type": "stream",
     "text": [
      "Package                       Version            \n",
      "----------------------------- -------------------\n",
      "absl-py                       0.11.0             \n",
      "anaconda-client               1.7.2              \n",
      "anaconda-navigator            1.9.7              \n",
      "appnope                       0.1.0              \n",
      "asn1crypto                    1.3.0              \n",
      "astor                         0.8.1              \n",
      "astunparse                    1.6.3              \n",
      "attrs                         19.3.0             \n",
      "backcall                      0.1.0              \n",
      "backports.functools-lru-cache 1.6.1              \n",
      "backports.tempfile            1.0                \n",
      "backports.weakref             1.0.post1          \n",
      "beautifulsoup4                4.8.2              \n",
      "bleach                        3.1.0              \n",
      "cachetools                    4.1.1              \n",
      "certifi                       2020.12.5          \n",
      "cffi                          1.14.0             \n",
      "chardet                       3.0.4              \n",
      "Click                         7.0                \n",
      "cloudpickle                   1.3.0              \n",
      "clyent                        1.2.2              \n",
      "colorama                      0.4.4              \n",
      "conda                         4.9.2              \n",
      "conda-build                   3.18.9             \n",
      "conda-package-handling        1.6.0              \n",
      "conda-verify                  3.4.2              \n",
      "cryptography                  2.8                \n",
      "cycler                        0.10.0             \n",
      "cytoolz                       0.10.1             \n",
      "dask                          2.13.0             \n",
      "data                          0.4                \n",
      "decorator                     4.4.1              \n",
      "defusedxml                    0.6.0              \n",
      "entrypoints                   0.3                \n",
      "filelock                      3.0.12             \n",
      "funcsigs                      1.0.2              \n",
      "future                        0.18.2             \n",
      "gast                          0.3.3              \n",
      "glob2                         0.7                \n",
      "google-auth                   1.23.0             \n",
      "google-auth-oauthlib          0.4.2              \n",
      "google-pasta                  0.2.0              \n",
      "grpcio                        1.31.0             \n",
      "gym                           0.17.1             \n",
      "h5py                          2.10.0             \n",
      "idna                          2.8                \n",
      "imageio                       2.8.0              \n",
      "importlib-metadata            3.1.1              \n",
      "ipdb                          0.12.3             \n",
      "ipykernel                     5.1.4              \n",
      "ipympl                        0.5.8              \n",
      "ipython                       7.12.0             \n",
      "ipython-genutils              0.2.0              \n",
      "ipywidgets                    7.5.1              \n",
      "jedi                          0.16.0             \n",
      "Jinja2                        2.11.1             \n",
      "joblib                        0.17.0             \n",
      "json5                         0.9.1              \n",
      "jsonschema                    3.2.0              \n",
      "jupyter-client                5.3.4              \n",
      "jupyter-core                  4.6.1              \n",
      "jupyterlab                    1.2.6              \n",
      "jupyterlab-server             1.0.6              \n",
      "Keras-Applications            1.0.8              \n",
      "Keras-Preprocessing           1.1.2              \n",
      "kiwisolver                    1.2.0              \n",
      "latex                         0.7.0              \n",
      "libarchive-c                  2.8                \n",
      "lief                          0.9.0              \n",
      "Markdown                      3.3.3              \n",
      "MarkupSafe                    1.1.1              \n",
      "matplotlib                    3.3.2              \n",
      "mistune                       0.8.4              \n",
      "mkl-fft                       1.0.15             \n",
      "mkl-random                    1.1.0              \n",
      "mkl-service                   2.3.0              \n",
      "navigator-updater             0.2.1              \n",
      "nbconvert                     5.6.1              \n",
      "nbformat                      5.0.4              \n",
      "networkx                      2.4                \n",
      "nltk                          3.5                \n",
      "notebook                      6.0.3              \n",
      "numpy                         1.18.4             \n",
      "oauthlib                      3.1.0              \n",
      "olefile                       0.46               \n",
      "opt-einsum                    3.3.0              \n",
      "pandas                        1.2.1              \n",
      "pandocfilters                 1.4.2              \n",
      "parso                         0.6.1              \n",
      "pexpect                       4.8.0              \n",
      "pickleshare                   0.7.5              \n",
      "Pillow                        7.0.0              \n",
      "pip                           20.0.2             \n",
      "pkginfo                       1.5.0.1            \n",
      "pomegranate                   0.13.5             \n",
      "prometheus-client             0.7.1              \n",
      "prompt-toolkit                3.0.3              \n",
      "protobuf                      3.13.0             \n",
      "psutil                        5.6.7              \n",
      "ptyprocess                    0.6.0              \n",
      "pyasn1                        0.4.8              \n",
      "pyasn1-modules                0.2.8              \n",
      "pycosat                       0.6.3              \n",
      "pycparser                     2.19               \n",
      "pyglet                        1.5.0              \n",
      "Pygments                      2.5.2              \n",
      "pyOpenSSL                     19.1.0             \n",
      "pyparsing                     2.4.6              \n",
      "pyrsistent                    0.15.7             \n",
      "PySocks                       1.7.1              \n",
      "python-dateutil               2.8.1              \n",
      "pytz                          2019.3             \n",
      "PyWavelets                    1.1.1              \n",
      "PyYAML                        5.3                \n",
      "pyzmq                         18.1.1             \n",
      "QtPy                          1.9.0              \n",
      "regex                         2020.7.14          \n",
      "requests                      2.22.0             \n",
      "requests-oauthlib             1.3.0              \n",
      "rsa                           4.6                \n",
      "ruamel-yaml                   0.15.87            \n",
      "scikit-image                  0.16.2             \n",
      "scikit-learn                  0.23.2             \n",
      "scipy                         1.4.1              \n",
      "Send2Trash                    1.5.0              \n",
      "setuptools                    45.2.0.post20200210\n",
      "shutilwhich                   1.1.0              \n",
      "six                           1.14.0             \n",
      "soupsieve                     1.9.5              \n",
      "tempdir                       0.7.1              \n",
      "tensorboard                   2.4.0              \n",
      "tensorboard-plugin-wit        1.7.0              \n",
      "tensorflow                    2.3.1              \n",
      "tensorflow-estimator          2.3.0              \n",
      "termcolor                     1.1.0              \n",
      "terminado                     0.8.3              \n",
      "testpath                      0.4.4              \n",
      "threadpoolctl                 2.1.0              \n",
      "toolz                         0.10.0             \n",
      "tornado                       6.0.3              \n",
      "tqdm                          4.42.1             \n",
      "traitlets                     4.3.3              \n",
      "urllib3                       1.25.8             \n",
      "wcwidth                       0.1.8              \n",
      "webencodings                  0.5.1              \n",
      "Werkzeug                      1.0.1              \n",
      "wheel                         0.34.2             \n",
      "widgetsnbextension            3.5.1              \n",
      "wrapt                         1.12.1             \n",
      "zipp                          2.2.0              \n",
      "Note: you may need to restart the kernel to use updated packages.\n"
     ]
    }
   ],
   "source": [
    "pip list"
   ]
  },
  {
   "cell_type": "code",
   "execution_count": 3,
   "metadata": {},
   "outputs": [
    {
     "name": "stdout",
     "output_type": "stream",
     "text": [
      "Collecting package metadata (current_repodata.json): done\n",
      "Solving environment: done\n",
      "\n",
      "## Package Plan ##\n",
      "\n",
      "  environment location: /opt/anaconda3\n",
      "\n",
      "  added / updated specs:\n",
      "    - pandas\n",
      "\n",
      "\n",
      "The following packages will be downloaded:\n",
      "\n",
      "    package                    |            build\n",
      "    ---------------------------|-----------------\n",
      "    pandas-1.2.1               |   py37hb2f4e1b_0         8.1 MB\n",
      "    ------------------------------------------------------------\n",
      "                                           Total:         8.1 MB\n",
      "\n",
      "The following NEW packages will be INSTALLED:\n",
      "\n",
      "  pandas             pkgs/main/osx-64::pandas-1.2.1-py37hb2f4e1b_0\n",
      "\n",
      "\n",
      "\n",
      "Downloading and Extracting Packages\n",
      "pandas-1.2.1         | 8.1 MB    | ##################################### | 100% \n",
      "Preparing transaction: done\n",
      "Verifying transaction: done\n",
      "Executing transaction: done\n",
      "\n",
      "Note: you may need to restart the kernel to use updated packages.\n"
     ]
    }
   ],
   "source": [
    "conda install pandas"
   ]
  },
  {
   "cell_type": "code",
   "execution_count": 4,
   "metadata": {},
   "outputs": [
    {
     "name": "stdout",
     "output_type": "stream",
     "text": [
      "Collecting package metadata (current_repodata.json): done\n",
      "Solving environment: done\n",
      "\n",
      "## Package Plan ##\n",
      "\n",
      "  environment location: /opt/anaconda3\n",
      "\n",
      "  added / updated specs:\n",
      "    - matplotlib\n",
      "\n",
      "\n",
      "The following packages will be downloaded:\n",
      "\n",
      "    package                    |            build\n",
      "    ---------------------------|-----------------\n",
      "    certifi-2020.12.5          |   py37hf985489_1         143 KB  conda-forge\n",
      "    openssl-1.1.1i             |       h35c211d_0         1.9 MB  conda-forge\n",
      "    ------------------------------------------------------------\n",
      "                                           Total:         2.0 MB\n",
      "\n",
      "The following packages will be UPDATED:\n",
      "\n",
      "  certifi            pkgs/main::certifi-2020.12.5-py37hecd~ --> conda-forge::certifi-2020.12.5-py37hf985489_1\n",
      "\n",
      "The following packages will be SUPERSEDED by a higher-priority channel:\n",
      "\n",
      "  ca-certificates    pkgs/main::ca-certificates-2021.1.19-~ --> conda-forge::ca-certificates-2020.12.5-h033912b_0\n",
      "  conda               pkgs/main::conda-4.9.2-py37hecd8cb5_0 --> conda-forge::conda-4.9.2-py37hf985489_0\n",
      "  openssl              pkgs/main::openssl-1.1.1i-h9ed2024_0 --> conda-forge::openssl-1.1.1i-h35c211d_0\n",
      "\n",
      "\n",
      "\n",
      "Downloading and Extracting Packages\n",
      "certifi-2020.12.5    | 143 KB    | ##################################### | 100% \n",
      "openssl-1.1.1i       | 1.9 MB    | ##################################### | 100% \n",
      "Preparing transaction: done\n",
      "Verifying transaction: done\n",
      "Executing transaction: done\n",
      "\n",
      "Note: you may need to restart the kernel to use updated packages.\n"
     ]
    }
   ],
   "source": [
    "conda install -c conda-forge matplotlib"
   ]
  },
  {
   "cell_type": "code",
   "execution_count": 2,
   "metadata": {},
   "outputs": [
    {
     "name": "stdout",
     "output_type": "stream",
     "text": [
      "board: xxxx__oooo\n",
      "x goes from 1 -> 5\n",
      "1 5\n",
      "board: x_xx_xoooo\n",
      "[6 7 8 9]\n",
      "7 4\n",
      "o goes from 7 -> 4\n",
      "board: x_xxoxo_oo\n",
      "3\n",
      "4\n",
      "o at position 4; killed\n",
      "x_xx_xo_oo\n"
     ]
    }
   ],
   "source": [
    "board_str = 'xxxx__oooo'\n",
    "board = np.array(list(board_str))\n",
    "\n",
    "print(\"board: \"+board_str)\n",
    "i = np.random.randint(4)\n",
    "j = np.random.randint(5, 6)\n",
    "print('x goes from {:d} -> {:d}'.format(i, j))\n",
    "print(i,j)\n",
    "board[i] = '_'\n",
    "board[j] = 'x'\n",
    "\n",
    "#print(board)\n",
    "board_str = ''.join(board)\n",
    "print(\"board: \"+board_str)\n",
    "\n",
    "sel_o = np.where(board == 'o')[0]\n",
    "#print(sel_o)\n",
    "emp = np.where(board == '_')[0]\n",
    "print((sel_o))\n",
    "i = np.random.choice((sel_o))\n",
    "j = np.random.choice(emp)\n",
    "\n",
    "print(i,j)\n",
    "board[i] = '_'\n",
    "board[j] = 'o'\n",
    "\n",
    "#print(board)\n",
    "print('o goes from {:d} -> {:d}'.format(i, j))\n",
    "board_str = ''.join(board)\n",
    "print(\"board: \"+board_str)\n",
    "\n",
    "match_xox = re.search(\"xox\", board_str)\n",
    "match_oxo = re.search(\"oxo\", board_str)\n",
    "flag = False\n",
    "if match_xox != None:\n",
    "    flag = True\n",
    "    matchpos = re.search(\"xox\", board_str).start()\n",
    "    print(matchpos)\n",
    "    o_pos = matchpos +2 // 2\n",
    "    print(o_pos)\n",
    "    board[o_pos] ='_'\n",
    "    board_str = ''.join(board)\n",
    "    print(\"o at position {:d}; killed\".format(o_pos))\n",
    "    print(board_str)\n",
    "    \n",
    "if flag == False and match_oxo != None:\n",
    "    matchpos = re.search(\"oxo\", board_str).start()\n",
    "    print(matchpos)\n",
    "    x_pos = matchpos +2 // 2\n",
    "    print(x_pos)\n",
    "    board[x_pos] ='_'\n",
    "    board_str = ''.join(board)\n",
    "    print(\"x at position {:d}; killed\".format(x_pos))\n",
    "    print(board_str)\n",
    "\n",
    "\n"
   ]
  },
  {
   "cell_type": "code",
   "execution_count": 3,
   "metadata": {},
   "outputs": [],
   "source": [
    "def getij(option):\n",
    "    sel = np.where(board == option)[0]\n",
    "    emp = np.where(board == '_')[0]\n",
    "    i_pos = np.random.choice(sel)\n",
    "    j_pos = np.random.choice(emp)\n",
    "    return i_pos, j_pos"
   ]
  },
  {
   "cell_type": "code",
   "execution_count": 4,
   "metadata": {},
   "outputs": [],
   "source": [
    "def checkVals(brd):\n",
    "    selx = np.where(brd == 'x')[0]\n",
    "    selo = np.where(brd == 'o')[0]\n",
    "\n",
    "    return len(selo) == 1 or len(selx) == 1"
   ]
  },
  {
   "cell_type": "code",
   "execution_count": 5,
   "metadata": {},
   "outputs": [
    {
     "name": "stdout",
     "output_type": "stream",
     "text": [
      "T\n"
     ]
    }
   ],
   "source": [
    "'''\n",
    "Testing\n",
    "'''\n",
    "board_str1 = '___x__oooo'\n",
    "board1 = np.array(list(board_str1))\n",
    "\n",
    "if checkVals(board1):\n",
    "    print(\"T\")\n",
    "else :\n",
    "    print(\"f\")"
   ]
  },
  {
   "cell_type": "code",
   "execution_count": 8,
   "metadata": {},
   "outputs": [],
   "source": [
    "\"\"\"\n",
    "Indicies\n",
    "\"\"\"\n",
    "def play():\n",
    "    board_str = 'xxxx__oooo'\n",
    "    board = np.array(list(board_str))\n",
    "    \n",
    "    x = np.array([])\n",
    "\n",
    "    for k in range(100):\n",
    "        print(\"board: \" + board_str)\n",
    "\n",
    "        if k == 0:\n",
    "            i = np.random.randint(4)\n",
    "            j = np.random.randint(5, 6)\n",
    "        else:\n",
    "            i, j = getij('x')\n",
    "\n",
    "        print('x goes from {:d} -> {:d}'.format(i, j))\n",
    "        board[i] = '_'\n",
    "        board[j] = 'x'\n",
    "        board_str = ''.join(board)\n",
    "        print(\"board: \" + board_str)\n",
    "        board_x = -1*(board_str == 'x') + 1*(board_str == 'o') + 0*(board_str == '_')\n",
    "\n",
    "        if k != 0:\n",
    "            match_oxo = re.search(\"oxo\", board_str)\n",
    "            if match_oxo is not None:\n",
    "                matchpos = re.search(\"oxo\", board_str).start()\n",
    "                x_pos = matchpos + 2 // 2\n",
    "                board[x_pos] = '_'\n",
    "                board_str = ''.join(board)\n",
    "                print(\"x at position {:d}; killed\".format(x_pos))\n",
    "\n",
    "            match_xox = re.search(\"xox\", board_str)\n",
    "            if match_xox is not None:\n",
    "                matchpos = re.search(\"xox\", board_str).start()\n",
    "                o_pos = matchpos + 2 // 2\n",
    "                board[o_pos] = '_'\n",
    "                board_str = ''.join(board)\n",
    "                print(\"o at position {:d}; killed\".format(o_pos))\n",
    "\n",
    "        i, j = getij('o')\n",
    "        # sel_o = np.where(board == 'o')[0]\n",
    "        # emp = np.where(board == '_')[0]\n",
    "        # i = np.random.choice((sel_o))\n",
    "        # j = np.random.choice(emp)\n",
    "\n",
    "        board[i] = '_'\n",
    "        board[j] = 'o'\n",
    "\n",
    "        print('o goes from {:d} -> {:d}'.format(i, j))\n",
    "        board_str = ''.join(board)\n",
    "        print(\"board: \" + board_str)\n",
    "        board_o = -1*(self.board_arr == 'x') + 1*(self.board_arr == 'o') + 0*(self.board_arr == '_')\n",
    "\n",
    "        match_xox = re.search(\"xox\", board_str)\n",
    "        match_oxo = re.search(\"oxo\", board_str)\n",
    "        #match = re.search(\"xo+x\",board)\n",
    "\n",
    "\n",
    "        flag = False\n",
    "\n",
    "        if match_xox is not None:\n",
    "            flag = True\n",
    "            matchpos = re.search(\"xox\", board_str).start()\n",
    "            o_pos = matchpos + 2 // 2\n",
    "            board[o_pos] = '_'\n",
    "            board_str = ''.join(board)\n",
    "            print(\"o at position {:d}; killed\".format(o_pos))\n",
    "\n",
    "        if flag == False and match_oxo is not None:\n",
    "            matchpos = re.search(\"oxo\", board_str).start()\n",
    "            x_pos = matchpos + 2 // 2\n",
    "            board[x_pos] = '_'\n",
    "            board_str = ''.join(board)\n",
    "            print(\"x at position {:d}; killed\".format(x_pos))\n",
    "        \n",
    "        data = np.concatenate((board_x , board_o ))\n",
    "        \n",
    "        if step == 0:\n",
    "                x= data\n",
    "            else:\n",
    "                x = np.vstack((x, data))\n",
    "\n",
    "        if checkVals(board):\n",
    "            break\n",
    "    print(\"Done\")"
   ]
  },
  {
   "cell_type": "code",
   "execution_count": 10,
   "metadata": {},
   "outputs": [
    {
     "name": "stdout",
     "output_type": "stream",
     "text": [
      "board: xxxx__oooo\n",
      "x goes from 0 -> 5\n",
      "board: _xxx_xoooo\n",
      "o goes from 8 -> 2\n",
      "board: _xox_xoo_o\n",
      "o at position 2; killed\n",
      "board: _x_x_xoo_o\n",
      "x goes from 9 -> 1\n",
      "board: _x_x_xoo__\n",
      "o goes from 6 -> 3\n",
      "board: _x_o_x_o__\n",
      "board: _x_o_x_o__\n",
      "x goes from 9 -> 0\n",
      "board: xx_o_x_o__\n",
      "o goes from 4 -> 0\n",
      "board: ox_o_x_o__\n",
      "board: ox_o_x_o__\n",
      "x goes from 9 -> 3\n",
      "board: ox_x_x_o__\n",
      "o goes from 8 -> 5\n",
      "board: ox_x_o_o__\n",
      "board: ox_x_o_o__\n",
      "x goes from 9 -> 3\n",
      "board: ox_x_o_o__\n",
      "o goes from 8 -> 0\n",
      "board: ox_x_o_o__\n",
      "board: ox_x_o_o__\n",
      "x goes from 9 -> 5\n",
      "board: ox_x_x_o__\n",
      "o goes from 6 -> 2\n",
      "board: oxox_x_o__\n",
      "o at position 2; killed\n",
      "board: ox_x_x_o__\n",
      "x goes from 9 -> 5\n",
      "board: ox_x_x_o__\n",
      "o goes from 8 -> 1\n",
      "board: oo_x_x_o__\n",
      "board: oo_x_x_o__\n",
      "x goes from 9 -> 5\n",
      "board: oo_x_x_o__\n",
      "o goes from 4 -> 5\n",
      "board: oo_x_o_o__\n",
      "Done\n"
     ]
    }
   ],
   "source": [
    "play()"
   ]
  },
  {
   "cell_type": "code",
   "execution_count": 50,
   "metadata": {
    "scrolled": true
   },
   "outputs": [
    {
     "name": "stdout",
     "output_type": "stream",
     "text": [
      "['xooox', 'xoox']\n",
      "iteration :1\n",
      "(0, 5)\n",
      "0 5\n",
      "xoooxxoox__oo\n",
      "iteration :2\n",
      "(5, 9)\n",
      "5 9\n",
      "xoooxxoox__oo\n"
     ]
    }
   ],
   "source": [
    "board = 'xoooxxoox__oo'\n",
    "#board = 'xxxx_ooo'\n",
    "match1 = re.findall(\"xo+x\",board)\n",
    "print(match1)\n",
    "\n",
    "i =1 \n",
    "for pattern in match1 :\n",
    "    match2 = re.search(pattern, board)\n",
    "    #print(match2)\n",
    "    print(\"iteration :\"+ str(i))\n",
    "    print(match2.span())\n",
    "    idx = match2.span()\n",
    "    #print(type(idx))\n",
    "    print(idx[0] , idx[1])\n",
    "    i = i+1\n",
    "    # code to replace o's between x\n",
    "    p_len = idx[1] - idx[0]\n",
    "    board[:idx[0]+1]+\"_\"+board[p_len-1:]\n",
    "    print(board)"
   ]
  },
  {
   "cell_type": "code",
   "execution_count": null,
   "metadata": {},
   "outputs": [],
   "source": [
    "if 0-5\n",
    "\n",
    "x=0 and the othe 5-1\n",
    "\n",
    "x1 = 0 and x2 = 5-1\n",
    "\n",
    "# from x1+1 to x2-1\n"
   ]
  },
  {
   "cell_type": "code",
   "execution_count": 31,
   "metadata": {},
   "outputs": [
    {
     "name": "stdout",
     "output_type": "stream",
     "text": [
      "['xooox']\n"
     ]
    }
   ],
   "source": [
    "board = 'xoooxoox__oo'\n",
    "#board = 'xxxx_ooo'\n",
    "match1 = re.findall(\"xo+x\",board)\n",
    "print(match1)"
   ]
  },
  {
   "cell_type": "code",
   "execution_count": 42,
   "metadata": {},
   "outputs": [],
   "source": [
    "def findpattern(board):\n",
    "    match1 = re.findall(\"xo+x\",board)\n",
    "    return match1"
   ]
  },
  {
   "cell_type": "code",
   "execution_count": 41,
   "metadata": {},
   "outputs": [
    {
     "name": "stdout",
     "output_type": "stream",
     "text": [
      "1\n"
     ]
    }
   ],
   "source": [
    "board = 'x___xoox__oo'\n",
    "ret = findpattern(board)\n",
    "if len(ret)>0:\n",
    "    # replace o's between x"
   ]
  },
  {
   "cell_type": "code",
   "execution_count": 62,
   "metadata": {},
   "outputs": [
    {
     "name": "stdout",
     "output_type": "stream",
     "text": [
      "[[1 2 3 4 5]\n",
      " [1 2 3 4 6]]\n"
     ]
    }
   ],
   "source": [
    "array1 = [1,2,3,4,5]\n",
    "array2 = [1,2,3,4,6]\n",
    "\n",
    "total = []\n",
    "total.append(array1)\n",
    "#print(total)\n",
    "total.append(array2)\n",
    "#print(total)\n",
    "\n",
    "arr = np.array(total)\n",
    "\n",
    "# print(array1.shape())\n",
    "\n",
    "print(arr)\n",
    "# for item in total:\n",
    "#     print(item)"
   ]
  },
  {
   "cell_type": "code",
   "execution_count": 8,
   "metadata": {},
   "outputs": [
    {
     "name": "stdout",
     "output_type": "stream",
     "text": [
      "[0]\n"
     ]
    }
   ],
   "source": [
    "board_str = 'xxxx__oooo' \n",
    "board1 = np.array([board_str])\n",
    "board_x = -1 * (board1 == 'x') + 1 * (board1 == 'o') + 0 * (board1 == '_')\n",
    "print(board_x)"
   ]
  },
  {
   "cell_type": "code",
   "execution_count": 10,
   "metadata": {},
   "outputs": [],
   "source": [
    "def getboard(board_str):\n",
    "    data= []\n",
    "    for i in range(0,len(board_str)):\n",
    "        if board_str[i] == 'x':\n",
    "            data.append(-1)\n",
    "        elif board_str[i] == 'o':\n",
    "            data.append(1)\n",
    "        else:\n",
    "            data.append(0)\n",
    "    return data"
   ]
  },
  {
   "cell_type": "code",
   "execution_count": 11,
   "metadata": {},
   "outputs": [
    {
     "name": "stdout",
     "output_type": "stream",
     "text": [
      "[-1, -1, -1, -1, 0, 0, 1, 1, 1, 1]\n"
     ]
    }
   ],
   "source": [
    "board_str = 'xxxx__oooo' \n",
    "board_x = getboard(board_str)\n",
    "print(board_x)"
   ]
  },
  {
   "cell_type": "code",
   "execution_count": null,
   "metadata": {},
   "outputs": [],
   "source": []
  }
 ],
 "metadata": {
  "kernelspec": {
   "display_name": "Python 3",
   "language": "python",
   "name": "python3"
  },
  "language_info": {
   "codemirror_mode": {
    "name": "ipython",
    "version": 3
   },
   "file_extension": ".py",
   "mimetype": "text/x-python",
   "name": "python",
   "nbconvert_exporter": "python",
   "pygments_lexer": "ipython3",
   "version": "3.7.4"
  }
 },
 "nbformat": 4,
 "nbformat_minor": 4
}
