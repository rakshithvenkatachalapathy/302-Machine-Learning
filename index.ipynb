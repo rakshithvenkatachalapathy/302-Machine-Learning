{
 "cells": [
  {
   "cell_type": "code",
   "execution_count": 26,
   "metadata": {},
   "outputs": [],
   "source": [
    "\"\"\"\n",
    "To print the indicies, we use the below syntax \n",
    "Use the named argument \"end\" to explicitly specify the end of line string\n",
    "Call this method whenever you are printing the board details\n",
    "\n",
    ">>> printindex('abxyz')\n",
    "01234\n",
    "\n",
    "\"\"\"\n",
    "def printindex(board):\n",
    "    for k in range(0, len(board)):\n",
    "        print(k, end = \"\")"
   ]
  },
  {
   "cell_type": "code",
   "execution_count": 25,
   "metadata": {},
   "outputs": [
    {
     "name": "stdout",
     "output_type": "stream",
     "text": [
      "Board status: \n",
      "xxxx__oooo\n",
      "0123456789"
     ]
    }
   ],
   "source": [
    "\"\"\"\n",
    "Demonstrate the use of printindex()\n",
    "\"\"\"\n",
    "board_str = 'xxxx__oooo'\n",
    "print(\"Board status: \")\n",
    "print(board_str)\n",
    "printindex(board_str)"
   ]
  },
  {
   "cell_type": "code",
   "execution_count": null,
   "metadata": {},
   "outputs": [],
   "source": []
  }
 ],
 "metadata": {
  "kernelspec": {
   "display_name": "Python 3",
   "language": "python",
   "name": "python3"
  },
  "language_info": {
   "codemirror_mode": {
    "name": "ipython",
    "version": 3
   },
   "file_extension": ".py",
   "mimetype": "text/x-python",
   "name": "python",
   "nbconvert_exporter": "python",
   "pygments_lexer": "ipython3",
   "version": "3.7.4"
  }
 },
 "nbformat": 4,
 "nbformat_minor": 4
}
